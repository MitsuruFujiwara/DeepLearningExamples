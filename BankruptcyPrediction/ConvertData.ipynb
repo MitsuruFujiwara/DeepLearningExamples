{
 "cells": [
  {
   "cell_type": "code",
   "execution_count": 1,
   "metadata": {
    "collapsed": false
   },
   "outputs": [
    {
     "name": "stderr",
     "output_type": "stream",
     "text": [
      "/home/fujiwara/.pyenv/versions/anaconda3-4.2.0/lib/python3.5/site-packages/sklearn/cross_validation.py:44: DeprecationWarning: This module was deprecated in version 0.18 in favor of the model_selection module into which all the refactored classes and functions are moved. Also note that the interface of the new CV iterators are different from that of this module. This module will be removed in 0.20.\n",
      "  \"This module will be removed in 0.20.\", DeprecationWarning)\n"
     ]
    }
   ],
   "source": [
    "import pandas as pd\n",
    "import numpy as np\n",
    "import matplotlib\n",
    "import matplotlib.pyplot as plt\n",
    "import seaborn as sns\n",
    "from sklearn.cross_validation import train_test_split\n",
    "from sklearn.preprocessing import StandardScaler\n",
    "%matplotlib inline "
   ]
  },
  {
   "cell_type": "code",
   "execution_count": 2,
   "metadata": {
    "collapsed": false
   },
   "outputs": [
    {
     "name": "stderr",
     "output_type": "stream",
     "text": [
      "/home/fujiwara/.pyenv/versions/anaconda3-4.2.0/lib/python3.5/site-packages/IPython/core/interactiveshell.py:2717: DtypeWarning: Columns (0,1,2,5,6,8,9,10,13,17,21,23,24,28,34,35,37,47,50,54,56,58) have mixed types. Specify dtype option on import or set low_memory=False.\n",
      "  interactivity=interactivity, compiler=compiler, result=result)\n",
      "/home/fujiwara/.pyenv/versions/anaconda3-4.2.0/lib/python3.5/site-packages/IPython/core/interactiveshell.py:2717: DtypeWarning: Columns (14,23) have mixed types. Specify dtype option on import or set low_memory=False.\n",
      "  interactivity=interactivity, compiler=compiler, result=result)\n",
      "/home/fujiwara/.pyenv/versions/anaconda3-4.2.0/lib/python3.5/site-packages/IPython/core/interactiveshell.py:2717: DtypeWarning: Columns (0,1,2,5,6,7,9,10,13,14,15,16,17,21,23,24,25,28,33,34,35,37,47,49,50,56,58) have mixed types. Specify dtype option on import or set low_memory=False.\n",
      "  interactivity=interactivity, compiler=compiler, result=result)\n"
     ]
    }
   ],
   "source": [
    "df1 = pd.read_csv('1year.csv')\n",
    "df2 = pd.read_csv('2year.csv')\n",
    "df3 = pd.read_csv('3year.csv')\n",
    "df4 = pd.read_csv('4year.csv')\n",
    "df5 = pd.read_csv('5year.csv')"
   ]
  },
  {
   "cell_type": "markdown",
   "metadata": {},
   "source": [
    "必要な関数の定義"
   ]
  },
  {
   "cell_type": "code",
   "execution_count": 10,
   "metadata": {
    "collapsed": true
   },
   "outputs": [],
   "source": [
    "def dropString(d):\n",
    "    for _d in d:\n",
    "        try:\n",
    "            yield float(_d)\n",
    "        except ValueError:\n",
    "            yield np.nan\n",
    "\n",
    "def getPricePerUnit(TradePrice, Area):\n",
    "    for t, a in zip(TradePrice, Area):\n",
    "        try:\n",
    "            yield float(t) / float(a)\n",
    "        except ValueError:\n",
    "            yield np.nan\n",
    "\n",
    "def getAge(BuildingYear, Period):\n",
    "    for b, p in zip(BuildingYear, Period):\n",
    "        try:\n",
    "            yield int(str(p)[-4:]) - int(b)\n",
    "        except ValueError:\n",
    "            yield np.nan"
   ]
  },
  {
   "cell_type": "markdown",
   "metadata": {},
   "source": [
    "文字列のデータを欠損値に変換"
   ]
  },
  {
   "cell_type": "code",
   "execution_count": 11,
   "metadata": {
    "collapsed": false
   },
   "outputs": [],
   "source": [
    "for t in df1.columns:\n",
    "    df1[t] = list(dropString(df1[t]))\n",
    "    df2[t] = list(dropString(df2[t]))\n",
    "    df3[t] = list(dropString(df3[t]))\n",
    "    df4[t] = list(dropString(df4[t]))\n",
    "    df5[t] = list(dropString(df5[t]))"
   ]
  },
  {
   "cell_type": "markdown",
   "metadata": {},
   "source": [
    "欠損値を平均で補間"
   ]
  },
  {
   "cell_type": "code",
   "execution_count": 12,
   "metadata": {
    "collapsed": false
   },
   "outputs": [],
   "source": [
    "df1 = df1.fillna(df1.mean())\n",
    "df2 = df1.fillna(df2.mean())\n",
    "df3 = df1.fillna(df3.mean())\n",
    "df4 = df1.fillna(df4.mean())\n",
    "df5 = df1.fillna(df5.mean())"
   ]
  },
  {
   "cell_type": "markdown",
   "metadata": {},
   "source": [
    "標準化"
   ]
  },
  {
   "cell_type": "code",
   "execution_count": 19,
   "metadata": {
    "collapsed": false
   },
   "outputs": [],
   "source": [
    "stdc = StandardScaler()\n",
    "_df1 = df1.drop('class', axis=1)\n",
    "_df2 = df2.drop('class', axis=1)\n",
    "_df3 = df3.drop('class', axis=1)\n",
    "_df4 = df4.drop('class', axis=1)\n",
    "_df5 = df5.drop('class', axis=1)\n",
    "\n",
    "data1 = pd.DataFrame(stdc.fit_transform(_df1), columns=_df1.columns)\n",
    "data2 = pd.DataFrame(stdc.fit_transform(_df2), columns=_df2.columns)\n",
    "data3 = pd.DataFrame(stdc.fit_transform(_df3), columns=_df3.columns)\n",
    "data4 = pd.DataFrame(stdc.fit_transform(_df4), columns=_df4.columns)\n",
    "data5 = pd.DataFrame(stdc.fit_transform(_df5), columns=_df5.columns)\n",
    "\n",
    "data1.describe().to_csv('des1.csv')\n",
    "data2.describe().to_csv('des2.csv')\n",
    "data3.describe().to_csv('des3.csv')\n",
    "data4.describe().to_csv('des4.csv')\n",
    "data5.describe().to_csv('des5.csv')\n",
    "\n",
    "data1 = pd.concat([data1, df1['class']], axis=1)\n",
    "data2 = pd.concat([data2, df2['class']], axis=1)\n",
    "data3 = pd.concat([data3, df3['class']], axis=1)\n",
    "data4 = pd.concat([data4, df4['class']], axis=1)\n",
    "data5 = pd.concat([data5, df5['class']], axis=1)"
   ]
  },
  {
   "cell_type": "markdown",
   "metadata": {
    "collapsed": true
   },
   "source": [
    "テスト用データと訓練用データに分割"
   ]
  },
  {
   "cell_type": "code",
   "execution_count": 21,
   "metadata": {
    "collapsed": true
   },
   "outputs": [],
   "source": [
    "X1, Y1 = data1.drop('class', axis=1).values, data1['class'].values\n",
    "X2, Y2 = data2.drop('class', axis=1).values, data2['class'].values\n",
    "X3, Y3 = data3.drop('class', axis=1).values, data3['class'].values\n",
    "X4, Y4 = data4.drop('class', axis=1).values, data4['class'].values\n",
    "X5, Y5 = data5.drop('class', axis=1).values, data5['class'].values\n",
    "\n",
    "X1_train, X1_test, Y1_train, Y1_test = train_test_split(X1, Y1, test_size=0.3)\n",
    "X2_train, X2_test, Y2_train, Y2_test = train_test_split(X2, Y2, test_size=0.3)\n",
    "X3_train, X3_test, Y3_train, Y3_test = train_test_split(X3, Y3, test_size=0.3)\n",
    "X4_train, X4_test, Y4_train, Y4_test = train_test_split(X4, Y4, test_size=0.3)\n",
    "X5_train, X5_test, Y5_train, Y5_test = train_test_split(X5, Y5, test_size=0.3)"
   ]
  },
  {
   "cell_type": "markdown",
   "metadata": {},
   "source": [
    "DataFrameへ変換"
   ]
  },
  {
   "cell_type": "code",
   "execution_count": 22,
   "metadata": {
    "collapsed": true
   },
   "outputs": [],
   "source": [
    "data1_train = pd.DataFrame(X1_train, columns= data1.columns.drop('class'))\n",
    "data2_train = pd.DataFrame(X2_train, columns= data2.columns.drop('class'))\n",
    "data3_train = pd.DataFrame(X3_train, columns= data3.columns.drop('class'))\n",
    "data4_train = pd.DataFrame(X4_train, columns= data4.columns.drop('class'))\n",
    "data5_train = pd.DataFrame(X5_train, columns= data5.columns.drop('class'))\n",
    "\n",
    "data1_train['class'] = Y1_train\n",
    "data2_train['class'] = Y2_train\n",
    "data3_train['class'] = Y3_train\n",
    "data4_train['class'] = Y4_train\n",
    "data5_train['class'] = Y5_train\n",
    "\n",
    "data1_test = pd.DataFrame(X1_test, columns= data1.columns.drop('class'))\n",
    "data2_test = pd.DataFrame(X2_test, columns= data2.columns.drop('class'))\n",
    "data3_test = pd.DataFrame(X3_test, columns= data3.columns.drop('class'))\n",
    "data4_test = pd.DataFrame(X4_test, columns= data4.columns.drop('class'))\n",
    "data5_test = pd.DataFrame(X5_test, columns= data5.columns.drop('class'))\n",
    "\n",
    "data1_test['class'] = Y1_test\n",
    "data2_test['class'] = Y2_test\n",
    "data3_test['class'] = Y3_test\n",
    "data4_test['class'] = Y4_test\n",
    "data5_test['class'] = Y5_test"
   ]
  },
  {
   "cell_type": "markdown",
   "metadata": {},
   "source": [
    "HDF形式で保存"
   ]
  },
  {
   "cell_type": "code",
   "execution_count": 24,
   "metadata": {
    "collapsed": true
   },
   "outputs": [],
   "source": [
    "data1_train.to_hdf('data.h5', key='data1_train')\n",
    "data2_train.to_hdf('data.h5', key='data2_train')\n",
    "data3_train.to_hdf('data.h5', key='data3_train')\n",
    "data4_train.to_hdf('data.h5', key='data4_train')\n",
    "data5_train.to_hdf('data.h5', key='data5_train')\n",
    "\n",
    "data1_test.to_hdf('data.h5', key='data1_test')\n",
    "data2_test.to_hdf('data.h5', key='data2_test')\n",
    "data3_test.to_hdf('data.h5', key='data3_test')\n",
    "data4_test.to_hdf('data.h5', key='data4_test')\n",
    "data5_test.to_hdf('data.h5', key='data5_test')"
   ]
  },
  {
   "cell_type": "code",
   "execution_count": null,
   "metadata": {
    "collapsed": true
   },
   "outputs": [],
   "source": []
  }
 ],
 "metadata": {
  "anaconda-cloud": {},
  "kernelspec": {
   "display_name": "Python [conda root]",
   "language": "python",
   "name": "conda-root-py"
  },
  "language_info": {
   "codemirror_mode": {
    "name": "ipython",
    "version": 3
   },
   "file_extension": ".py",
   "mimetype": "text/x-python",
   "name": "python",
   "nbconvert_exporter": "python",
   "pygments_lexer": "ipython3",
   "version": "3.5.2"
  }
 },
 "nbformat": 4,
 "nbformat_minor": 1
}
